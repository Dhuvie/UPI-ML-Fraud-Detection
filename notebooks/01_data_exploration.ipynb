{
 "cells": [
  {
   "cell_type": "markdown",
   "metadata": {},
   "source": [
    "# Data Exploration - UPI Fraud Detection\n",
    "\n",
    "This notebook explores the transaction dataset and visualizes fraud patterns."
   ]
  },
  {
   "cell_type": "code",
   "execution_count": null,
   "metadata": {},
   "source": [
    "import pandas as pd\n",
    "import numpy as np\n",
    "import matplotlib.pyplot as plt\n",
    "import seaborn as sns\n",
    "\n",
    "# Set style\n",
    "sns.set_style('whitegrid')\n",
    "plt.rcParams['figure.figsize'] = (12, 6)"
   ]
  },
  {
   "cell_type": "markdown",
   "metadata": {},
   "source": [
    "## Load Dataset"
   ]
  },
  {
   "cell_type": "code",
   "execution_count": null,
   "metadata": {},
   "source": [
    "# Load data\n",
    "df = pd.read_csv('../data/raw/upi_fraud_data.csv')\n",
    "\n",
    "print(f\"Dataset shape: {df.shape}\")\n",
    "print(f\"\\nColumns: {df.columns.tolist()}\")\n",
    "df.head()"
   ]
  },
  {
   "cell_type": "markdown",
   "metadata": {},
   "source": [
    "## Basic Statistics"
   ]
  },
  {
   "cell_type": "code",
   "execution_count": null,
   "metadata": {},
   "source": [
    "# Dataset info\n",
    "print(\"Dataset Information:\")\n",
    "print(df.info())\n",
    "\n",
    "print(\"\\nMissing Values:\")\n",
    "print(df.isnull().sum())\n",
    "\n",
    "print(\"\\nBasic Statistics:\")\n",
    "df.describe()"
   ]
  },
  {
   "cell_type": "markdown",
   "metadata": {},
   "source": [
    "## Fraud Distribution"
   ]
  },
  {
   "cell_type": "code",
   "execution_count": null,
   "metadata": {},
   "source": [
    "# Fraud distribution\n",
    "fraud_counts = df['isFraud'].value_counts()\n",
    "fraud_pct = df['isFraud'].value_counts(normalize=True) * 100\n",
    "\n",
    "print(\"Fraud Distribution:\")\n",
    "print(f\"Legitimate: {fraud_counts[0]:,} ({fraud_pct[0]:.2f}%)\")\n",
    "print(f\"Fraud: {fraud_counts[1]:,} ({fraud_pct[1]:.2f}%)\")\n",
    "\n",
    "# Visualize\n",
    "fig, (ax1, ax2) = plt.subplots(1, 2, figsize=(14, 5))\n",
    "\n",
    "# Bar plot\n",
    "fraud_counts.plot(kind='bar', ax=ax1, color=['green', 'red'])\n",
    "ax1.set_title('Transaction Count by Type')\n",
    "ax1.set_xlabel('Transaction Type (0=Legitimate, 1=Fraud)')\n",
    "ax1.set_ylabel('Count')\n",
    "ax1.set_xticklabels(['Legitimate', 'Fraud'], rotation=0)\n",
    "\n",
    "# Pie chart\n",
    "ax2.pie(fraud_counts, labels=['Legitimate', 'Fraud'], autopct='%1.2f%%', colors=['green', 'red'])\n",
    "ax2.set_title('Fraud Distribution')\n",
    "\n",
    "plt.tight_layout()\n",
    "plt.show()"
   ]
  },
  {
   "cell_type": "markdown",
   "metadata": {},
   "source": [
    "## Transaction Types"
   ]
  },
  {
   "cell_type": "code",
   "execution_count": null,
   "metadata": {},
   "source": [
    "# Transaction types\n",
    "print(\"Transaction Types:\")\n",
    "print(df['type'].value_counts())\n",
    "\n",
    "# Fraud by transaction type\n",
    "fraud_by_type = pd.crosstab(df['type'], df['isFraud'])\n",
    "fraud_by_type['fraud_rate'] = fraud_by_type[1] / (fraud_by_type[0] + fraud_by_type[1]) * 100\n",
    "\n",
    "print(\"\\nFraud Rate by Transaction Type:\")\n",
    "print(fraud_by_type)\n",
    "\n",
    "# Visualize\n",
    "fraud_by_type['fraud_rate'].plot(kind='bar', color='red', figsize=(10, 5))\n",
    "plt.title('Fraud Rate by Transaction Type')\n",
    "plt.xlabel('Transaction Type')\n",
    "plt.ylabel('Fraud Rate (%)')\n",
    "plt.xticks(rotation=45)\n",
    "plt.tight_layout()\n",
    "plt.show()"
   ]
  },
  {
   "cell_type": "markdown",
   "metadata": {},
   "source": [
    "## Amount Analysis"
   ]
  },
  {
   "cell_type": "code",
   "execution_count": null,
   "metadata": {},
   "source": [
    "# Amount statistics\n",
    "print(\"Amount Statistics:\")\n",
    "print(f\"Mean: {df['amount'].mean():.2f}\")\n",
    "print(f\"Median: {df['amount'].median():.2f}\")\n",
    "print(f\"Max: {df['amount'].max():.2f}\")\n",
    "\n",
    "# Compare fraud vs legitimate\n",
    "print(\"\\nAmount by Fraud Status:\")\n",
    "print(df.groupby('isFraud')['amount'].describe())\n",
    "\n",
    "# Visualize\n",
    "fig, (ax1, ax2) = plt.subplots(1, 2, figsize=(14, 5))\n",
    "\n",
    "# Box plot\n",
    "df.boxplot(column='amount', by='isFraud', ax=ax1)\n",
    "ax1.set_title('Amount Distribution by Fraud Status')\n",
    "ax1.set_xlabel('Fraud Status (0=Legitimate, 1=Fraud)')\n",
    "ax1.set_ylabel('Amount')\n",
    "\n",
    "# Histogram\n",
    "df[df['isFraud']==0]['amount'].hist(bins=50, alpha=0.5, label='Legitimate', ax=ax2, color='green')\n",
    "df[df['isFraud']==1]['amount'].hist(bins=50, alpha=0.5, label='Fraud', ax=ax2, color='red')\n",
    "ax2.set_title('Amount Distribution')\n",
    "ax2.set_xlabel('Amount')\n",
    "ax2.set_ylabel('Frequency')\n",
    "ax2.legend()\n",
    "\n",
    "plt.tight_layout()\n",
    "plt.show()"
   ]
  },
  {
   "cell_type": "markdown",
   "metadata": {},
   "source": [
    "## Balance Analysis"
   ]
  },
  {
   "cell_type": "code",
   "execution_count": null,
   "metadata": {},
   "source": [
    "# Balance changes\n",
    "df['balance_change_orig'] = df['newbalanceOrig'] - df['oldbalanceOrg']\n",
    "df['balance_change_dest'] = df['newbalanceDest'] - df['oldbalanceDest']\n",
    "\n",
    "print(\"Balance Change Statistics:\")\n",
    "print(df.groupby('isFraud')[['balance_change_orig', 'balance_change_dest']].describe())\n",
    "\n",
    "# Visualize\n",
    "fig, (ax1, ax2) = plt.subplots(1, 2, figsize=(14, 5))\n",
    "\n",
    "# Sender balance change\n",
    "df.boxplot(column='balance_change_orig', by='isFraud', ax=ax1)\n",
    "ax1.set_title('Sender Balance Change')\n",
    "ax1.set_xlabel('Fraud Status')\n",
    "ax1.set_ylabel('Balance Change')\n",
    "\n",
    "# Receiver balance change\n",
    "df.boxplot(column='balance_change_dest', by='isFraud', ax=ax2)\n",
    "ax2.set_title('Receiver Balance Change')\n",
    "ax2.set_xlabel('Fraud Status')\n",
    "ax2.set_ylabel('Balance Change')\n",
    "\n",
    "plt.tight_layout()\n",
    "plt.show()"
   ]
  },
  {
   "cell_type": "markdown",
   "metadata": {},
   "source": [
    "## Correlation Analysis"
   ]
  },
  {
   "cell_type": "code",
   "execution_count": null,
   "metadata": {},
   "source": [
    "# Select numeric columns\n",
    "numeric_cols = df.select_dtypes(include=[np.number]).columns\n",
    "\n",
    "# Correlation matrix\n",
    "corr = df[numeric_cols].corr()\n",
    "\n",
    "# Visualize\n",
    "plt.figure(figsize=(12, 10))\n",
    "sns.heatmap(corr, annot=True, fmt='.2f', cmap='coolwarm', center=0)\n",
    "plt.title('Correlation Matrix')\n",
    "plt.tight_layout()\n",
    "plt.show()\n",
    "\n",
    "# Correlation with fraud\n",
    "print(\"\\nCorrelation with Fraud:\")\n",
    "print(corr['isFraud'].sort_values(ascending=False))"
   ]
  },
  {
   "cell_type": "markdown",
   "metadata": {},
   "source": [
    "## Key Insights\n",
    "\n",
    "1. **Extreme Imbalance**: Fraud cases are < 1% of total transactions\n",
    "2. **Transaction Types**: Certain types have higher fraud rates\n",
    "3. **Amount Patterns**: Fraudulent transactions show different amount distributions\n",
    "4. **Balance Changes**: Unusual balance patterns indicate fraud\n",
    "\n",
    "These insights guide our feature engineering and model selection."
   ]
  }
 ],
 "metadata": {
  "kernelspec": {
   "display_name": "Python 3",
   "language": "python",
   "name": "python3"
  },
  "language_info": {
   "codemirror_mode": {
    "name": "ipython",
    "version": 3
   },
   "file_extension": ".py",
   "mimetype": "text/x-python",
   "name": "python",
   "nbconvert_exporter": "python",
   "pygments_lexer": "ipython3",
   "version": "3.8.0"
  }
 },
 "nbformat": 4,
 "nbformat_minor": 4
}
